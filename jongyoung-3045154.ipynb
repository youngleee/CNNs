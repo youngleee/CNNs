{
 "cells": [
  {
   "cell_type": "markdown",
   "metadata": {},
   "source": [
    "Planung der benötigten Module\n",
    "\n",
    "benötigte Libraries:\n",
    "- Pytorch\n",
    "- Torchvision\n",
    "- numpy\n",
    "- matplotlib\n",
    "\n",
    "1. Data Handlung\n",
    " - Bild einladen\n",
    " - Data Transformation\n",
    " - Data Loader erzeugung\n",
    "\n",
    "2. CNN Model definition - cat/dog CNN:\n",
    "- Feed Forward\n",
    "\n",
    "3. Loss function/ Optimierer\n",
    "- Binary Cross- Entropy loss function\n",
    "- Adam- optimizer\n",
    "\n",
    "4. Training des Netzwerks\n",
    "- Datensatz\n",
    "- Trainingsatz\n",
    "\n",
    "5. Modell speichern\n",
    "\n",
    "6. Modell Testen und laden\n",
    "\n",
    "7. Netzwerkleistung prüfung\n",
    "- Accuracy\n",
    "\n",
    "\n",
    "Beschreibung und Klassifizierung des Problems \n",
    "Unsere selbstgestellte Fragestellung hier war die Erkennung von Hunden- und Katzenfotos, und deren Klassifizierung als solche. Hierzu haben wir ein freiverfügbares Dataset auf Kaggle.com mit verschiedenen Hund und Katzenfotos genutzt. Dieses Dataset hat den Vorteil, dass die dazugehörigen Bilder verschiedene Pixelgrößen enthalten, dass die Tiere in verschiedenen Kontexten abgebildet wurden, als auch dass von beiden Tierarten verschiedene Rassen abgebildet sind. \n",
    "\n",
    "\n",
    "Planung des Lösungswegs\n",
    "Um dieses Problem lösen zu können, haben wir ein CNN programmiert. Hierbei haben wir mithilfe der Pytorch Funktionen zunächst einwir mithilfe der Pytorch Funktionen. Hierzu haben wir ein CNN programmiert. Zunächst haben wir das Netzwerk definiert. Um dies durchführen zu können, mussten wir erst die Datenvorverarbeitung definieren, als auch aus dem Datensatz eine Teildatensatz definieren, mit welchen ein erster Forward Pass durch das programmierte Modell durchgeführt werden sollte. Im Anschluss muss das Modell noch trainiert werden mit einer eigenen Loss-Function. \n"
   ]
  }
 ],
 "metadata": {
  "language_info": {
   "name": "python"
  }
 },
 "nbformat": 4,
 "nbformat_minor": 2
}
