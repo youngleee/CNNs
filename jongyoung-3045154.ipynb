{
 "cells": [
  {
   "cell_type": "markdown",
   "metadata": {},
   "source": [
    "Planung der benötigten Module\n",
    "\n",
    "benötigte Libraries:\n",
    "- Pytorch\n",
    "- Torchvision\n",
    "- numpy\n",
    "- matplotlib"
   ]
  }
 ],
 "metadata": {
  "language_info": {
   "name": "python"
  }
 },
 "nbformat": 4,
 "nbformat_minor": 2
}
