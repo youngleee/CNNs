{
 "cells": [
  {
   "cell_type": "markdown",
   "metadata": {},
   "source": [
    "Planung der benötigten Module\n",
    "\n",
    "benötigte Libraries:\n",
    "- Pytorch\n",
    "- Torchvision\n",
    "- numpy\n",
    "- matplotlib\n",
    "\n",
    "1. Data Handlung\n",
    " - Bild einladen\n",
    " - Data Transformation\n",
    " - Data Loader erzeugung\n",
    "\n",
    "2. CNN Model definition - cat/dog CNN:\n",
    "- Feed Forward\n",
    "\n",
    "3. Loss function/ Optimierer\n",
    "- Binary Cross- Entropy loss function\n",
    "- Adam- optimizer\n",
    "\n",
    "4. Training des Netzwerks\n",
    "- Datensatz\n",
    "- Trainingsatz\n",
    "\n",
    "5. Modell speichern\n",
    "\n",
    "6. Modell Testen und laden\n",
    "\n",
    "7. Netzwerkleistung prüfung\n",
    "- Accuracy\n"
   ]
  }
 ],
 "metadata": {
  "language_info": {
   "name": "python"
  }
 },
 "nbformat": 4,
 "nbformat_minor": 2
}
