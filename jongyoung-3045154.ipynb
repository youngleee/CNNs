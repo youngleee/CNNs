{
 "cells": [
  {
   "cell_type": "markdown",
   "metadata": {},
   "source": [
    "Planung der benötigten Module\n",
    "\n",
    "benötigte Libraries:\n",
    "- Pytorch\n",
    "- Torchvision\n",
    "- numpy\n",
    "- matplotlib\n",
    "\n",
    "1. Data Handling Module\n",
    " - Image Loading/ Preprocessing\n",
    " - Data Transformation\n",
    " - Data Loader Creation\n",
    "\n",
    "2. CNN Model definition - cat/dog CNN: from scratch oder pretrained resnet50\n",
    "- \n",
    "\n",
    "3. Loss function/ Optimizer\n",
    "- Binary Cross- Entropy loss function\n",
    "- Adam- optimizer\n",
    "\n",
    "4. Training des Netzwerks\n",
    "- Datensatz\n",
    "- Trainingsatz\n"
   ]
  }
 ],
 "metadata": {
  "language_info": {
   "name": "python"
  }
 },
 "nbformat": 4,
 "nbformat_minor": 2
}
