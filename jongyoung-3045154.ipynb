{
 "cells": [
  {
   "cell_type": "markdown",
   "metadata": {},
   "source": [
    "Planung der benötigten Module\n",
    "\n",
    "benötigte Libraries:\n",
    "- Pytorch\n",
    "- Torchvision\n",
    "- numpy\n",
    "- matplotlib\n",
    "\n",
    "1. Data Handling Module\n",
    " - Image Loading/ Preprocessing\n",
    " - Data Transformation\n",
    " - Data Loader Creation\n",
    "\n",
    "2. CNN Model definition - cat/dog CNN, "
   ]
  }
 ],
 "metadata": {
  "language_info": {
   "name": "python"
  }
 },
 "nbformat": 4,
 "nbformat_minor": 2
}
